{
 "cells": [
  {
   "cell_type": "code",
   "execution_count": 31,
   "id": "e5ad47a6-eefc-4f2d-bd5c-7efffca295a7",
   "metadata": {},
   "outputs": [
    {
     "name": "stdout",
     "output_type": "stream",
     "text": [
      "Lista original: [29, 10, 14, 37, 13]\n",
      "Lista ordenada: [10, 13, 14, 29, 37]\n",
      "Maior elemento: 37\n"
     ]
    }
   ],
   "source": [
    "def selection_sort(arr):\n",
    "    for i in range(len(arr)):\n",
    "        min_idx = i\n",
    "        for j in range(i + 1, len(arr)):\n",
    "            if arr[j] < arr[min_idx]:\n",
    "                min_idx = j\n",
    "        arr[i], arr[min_idx] = arr[min_idx], arr[i]\n",
    "    return arr\n",
    "\n",
    "def find_max(lista_ordenada):\n",
    "    if not lista_ordenada:\n",
    "        return None\n",
    "    return lista_ordenada[-1]\n",
    "\n",
    "lista = [29, 10, 14, 37, 13]\n",
    "print(\"Lista original:\", lista)\n",
    "sorted_list = selection_sort(lista.copy())\n",
    "print(\"Lista ordenada:\", sorted_list)\n",
    "print(\"Maior elemento:\", find_max(sorted_list))\n"
   ]
  }
 ],
 "metadata": {
  "kernelspec": {
   "display_name": "Python [conda env:base] *",
   "language": "python",
   "name": "conda-base-py"
  },
  "language_info": {
   "codemirror_mode": {
    "name": "ipython",
    "version": 3
   },
   "file_extension": ".py",
   "mimetype": "text/x-python",
   "name": "python",
   "nbconvert_exporter": "python",
   "pygments_lexer": "ipython3",
   "version": "3.12.7"
  }
 },
 "nbformat": 4,
 "nbformat_minor": 5
}
